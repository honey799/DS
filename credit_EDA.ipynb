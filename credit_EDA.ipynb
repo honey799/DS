{
  "nbformat": 4,
  "nbformat_minor": 0,
  "metadata": {
    "colab": {
      "provenance": [],
      "authorship_tag": "ABX9TyPAHBm6N7FvnWUuqjcZd86I",
      "include_colab_link": true
    },
    "kernelspec": {
      "name": "python3",
      "display_name": "Python 3"
    },
    "language_info": {
      "name": "python"
    }
  },
  "cells": [
    {
      "cell_type": "markdown",
      "metadata": {
        "id": "view-in-github",
        "colab_type": "text"
      },
      "source": [
        "<a href=\"https://colab.research.google.com/github/honey799/DS/blob/main/credit_EDA.ipynb\" target=\"_parent\"><img src=\"https://colab.research.google.com/assets/colab-badge.svg\" alt=\"Open In Colab\"/></a>"
      ]
    },
    {
      "cell_type": "markdown",
      "source": [
        "# Credit EDA Case Study\n",
        "# Problem Statement\n",
        "# Introduction\n",
        "## New section\n",
        "\n",
        "---\n",
        "\n",
        "\n",
        "This case study aims to give us an idea of applying EDA in a real business scenario. In this case study, apart from applying the techniques of Exploratory Data Analysis (EDA), we will also develop a basic understanding of risk analytics in banking and financial services and understand how data is used to minimise the risk of losing money while lending to customers.\n",
        "\n",
        "# Business Understanding\n",
        "\n",
        "\n",
        "---\n",
        "\n",
        "\n",
        "The loan providing companies find it hard to give loans to the people due to their insufficient or non-existent credit history. Because of that, some consumers use it as their advantage by becoming a defaulter. Suppose you work for a consumer finance company which specialises in lending various types of loans to urban customers. You have to use EDA to analyse the patterns present in the data. This will ensure that the applicants are capable of repaying the loan are not rejected.\n",
        "\n",
        "When the company receives a loan application, the company has to decide for loan approval based on the applicant’s profile. Two types of risks are associated with the bank’s decision:\n",
        "\n",
        "If the applicant is likely to repay the loan, then not approving the loan  List item results in a loss of business to the company\n",
        "If the applicant is not likely to repay the loan, i.e. he/she is likely to\n",
        "List item\n",
        "\n",
        "default, then approving the loan may lead to a financial loss for the company.\n",
        "The data given below contains the information about the loan application at the time of applying for the loan. It contains two types of scenarios:\n",
        "The client w he/she had late payment more than X days on at least one of the first Y instalments of the loan in our sample,\n",
        "# All other cases:\n",
        " All other cases when the payment is paid on time.\n",
        "# When a client applies for a loan, there are four types of decisions that could be taken by the client/company):\n",
        "\n",
        "#1. Approved:\n",
        "The Company has approved loan Application\n",
        "Cancelled: The client cancelled the application sometime during approval. Either the client changed her/his mind about the loan or in some cases due to a higher risk of the client he received worse pricing which he did not want.\n",
        "# 2.Refused:\n",
        " The company had rejected the loan (because the client does not meet their requirements etc.).\n",
        "#3. Unused offer:\n",
        "Loan has been cancelled by the client but on different stages of the process.\n",
        "In this case study, you will use EDA to understand how consumer attributes and loan attributes influence the tendency of default.\n",
        "\n",
        "#4. Business Objectives\n",
        "This case study aims to identify patterns which indicate if a client has difficulty paying their instalments which may be used for taking actions such as denying the loan, reducing the amount of loan, lending (to risky applicants) at a higher interest rate, etc. This will ensure that the consumers capable of repaying the loan are not rejected. Identification of such applicants using EDA is the aim of this case study.\n",
        "\n",
        "In other words, the company wants to understand the driving factors (or driver variables) behind loan default, i.e. the variables which are strong indicators of default. The company can utilise this knowledge for its portfolio and risk assessment.\n",
        "\n",
        "To develop your understanding of the domain, you are advised to independently research a little about risk analytics - understanding the types of variables and their significance should be enough).\n",
        "\n",
        "# Data Understanding\n",
        "Download the dataset from the link below.\n",
        "https://drive.google.com/open?id=16RQztUqCfJOlbooHqYlJrp6Q7iL65uZB\n",
        "\n",
        " #This dataset has 3 files as explained below:\n",
        "\n",
        "# application_data.csv\n",
        " contains all the information of the client at the time of application. The data is about whether a client has payment difficulties.\n",
        "# previous_application.csv\n",
        "contains information about the client’s previous loan data. It contains the data whether the previous application had been Approved, Cancelled, Refused or Unused offer.\n",
        "# columns_description.csv\n",
        " is data dictionary which describes the meaning of the variables.\n",
        "Credit EDA Project in Data Science\n",
        "\n",
        "A credit EDA (Exploratory Data Analysis) project involves analyzing historical credit data to gain insights into customer behavior, identify risk factors, and improve decision-making processes. This analysis typically includes:\n",
        "# New section\n",
        "Key Steps:\n",
        "\n",
        "# Data Collection and Cleaning:\n",
        "\n",
        "Gather relevant data from various sources (e.g., customer applications, transaction history, credit bureau reports).\n",
        "Clean the data by handling missing values, outliers, and inconsistencies.\n",
        "# Univariate Analysis:\n",
        "\n",
        "Explore individual variables (e.g., income, credit history, loan amount) to understand their distributions and characteristics.\n",
        "Visualize data using histograms, box plots, and summary statistics.\n",
        "# Bivariate Analysis:\n",
        "\n",
        "Examine relationships between pairs of variables (e.g., income vs. loan default, credit score vs. loan amount).\n",
        "Use scatter plots, correlation matrices, and statistical tests to identify significant relationships.\n",
        "# Multivariate Analysis:\n",
        "\n",
        "Analyze the combined effects of multiple variables on credit risk.\n",
        "Employ techniques like principal component analysis (PCA) and clustering to identify patterns and groups within the data.\n",
        "# Data Visualization:\n",
        "\n",
        "Create informative and visually appealing visualizations to communicate findings effectively.\n",
        "Use charts, graphs, and interactive dashboards to explore data interactively.\n",
        "# Typical Findings:\n",
        "\n",
        "# Risk Factors:\n",
        " Identify factors that significantly increase or decrease the likelihood of loan default (e.g., low income, poor credit history, high debt-to-income ratio).\n",
        "# Customer Segmentation:\n",
        " Group customers into segments based on their creditworthiness and behavior.\n",
        "# Early Warning Signals:\n",
        " Detect early signs of potential credit problems.\n",
        "# Business Opportunities:\n",
        " Identify opportunities to improve lending practices, target specific customer segments, and develop new credit products.\n",
        "Tools and Techniques:\n",
        "\n",
        "# Programming Languages:\n",
        "Python (with libraries like Pandas, NumPy, and Matplotlib) or R.\n",
        "Statistical Methods:\n",
        "Descriptive statistics, hypothesis testing, regression analysis, machine learning algorithms.\n",
        "# Data Visualization Libraries:\n",
        " Matplotlib, Seaborn, Plotly.\n",
        "By conducting a thorough credit EDA, businesses can make more informed decisions about lending, risk management, and customer relationships.\n"
      ],
      "metadata": {
        "id": "_NWbQY_xSRAe"
      }
    },
    {
      "cell_type": "markdown",
      "source": [
        "There are many financial problems yearly due to credit card fraud transactions. The financial industry has switched from a designation approach to an a priori predictive approach with the design of a fraud detection algorithm for applying instigators.\n",
        "\n",
        "This case study is focused on giving you an idea of applying Exploratory Data Analysis (EDA) in a real business scenario. In this case study, apart from using the various Exploratory Data Analysis (EDA) techniques, you will also develop a basic understanding of risk analytics and how data can be utilized to minimise the risk of losing loan-providing to customers.\n",
        "\n",
        "This article was published as a part of the Data Science Blogathon.\n",
        "\n",
        "Business Problem Understanding\n",
        "Loan-providing companies find it hard to give loans to people due to their inadequate or missing credit. Some consumers use this to their advantage by becoming defaulters. Let us consider your work for a consumer finance company that specialises in lending various types of loans to customers. It would be best if you used Exploratory Data Analysis (EDA) to analyse the patterns present in the data which will make sure that the loans are not rejected for the applicants capable of repaythegright to company receives a loan application,\n",
        "the company has to rights for loan approval based on the applicant’s profile. Two types of risks are associated with the bank’s or company’s decision:\n",
        "\n",
        "If the aspirant is likely to repay the loan, then the loan tends to be a business loss to the company.\n",
        "If the applicant is aspirant or committed and not likely to repay the loan, i.e., he/she is likely to default or commit fraud, then approving the loan may lead to a financial loss for the company.\n",
        "The data contains information about the loan application.\n",
        "\n",
        "# When a client applies for a loan, four types of decisions could be taken by the bank/company:\n",
        "\n",
        "# Approved:\n",
        "The loan application meets all requirements and is granted to the client.\n",
        "# Cancelled:\n",
        "The loan application process is stopped, often at theclient’s request, before final approval.\n",
        "# Refused:\n",
        "The loan application is denied due to unmet criteria or risk factors.\n",
        "# Unused offer:\n",
        " The loan was approved, but the client did not proceed to utilize the funds.\n",
        "In this case study, you will use Exploratory Data Analysis(EDA) to understand how consumer and loan attributes impact the default tendency.\n",
        "\n",
        "# Business Goal\n",
        "This case study aims to identify patterns that indicate whether an applicant will repay their instalments. These patterns may be used to take further actions, such as denying the loan, reducing the amount of the loan, lending at a higher interest rate, etc. This will ensure that the applicants capable of repaying the loan are not rejected. Recognition of such aspirants using Exploratory Data Analysis (EDA) techniques is the main focus of this case study.\n",
        "\n",
        "# Data\n",
        "You can get access to data here."
      ],
      "metadata": {
        "id": "dCpxKl8Nzuf6"
      }
    },
    {
      "cell_type": "markdown",
      "source": [
        "# Importing Necessary Packages\n"
      ],
      "metadata": {
        "id": "V3q9-mPe0f6p"
      }
    },
    {
      "cell_type": "code",
      "source": [
        "# Filtering Warnings\n",
        "import warnings\n",
        "warnings.filterwarnings('ignore')\n",
        "\n",
        "#Other's\n",
        "import numpy as np\n",
        "import pandas as pd\n",
        "import seaborn as sns\n",
        "import matplotlib.pyplot as plt\n",
        "from plotly.subplots import make_subplots\n",
        "import plotly.graph_objects as go\n",
        "pd.set_option('display.max_columns', 300) #Setting column display limit\n",
        "plt.style.use('ggplot') #Applying style to graphs"
      ],
      "metadata": {
        "id": "-TQUbh0y0kqf"
      },
      "execution_count": null,
      "outputs": []
    },
    {
      "cell_type": "markdown",
      "source": [
        "Here, we will use two datasets for our analysis as follows,\n",
        "\n",
        "# application_data.csv as df1\n",
        "# previous_application.csv as df2\n",
        "Let’s start with reading those files, we’ll begin with df1,"
      ],
      "metadata": {
        "id": "eUKouyRh0xfK"
      }
    },
    {
      "cell_type": "code",
      "source": [
        "df1 = pd.read_csv(\"application_data.csv\")\n",
        "df1.head()"
      ],
      "metadata": {
        "id": "72KFuLqsBKJW"
      },
      "execution_count": null,
      "outputs": []
    },
    {
      "cell_type": "code",
      "source": [
        "df1.shape"
      ],
      "metadata": {
        "id": "UeMRta5ikCBj"
      },
      "execution_count": null,
      "outputs": []
    },
    {
      "cell_type": "code",
      "source": [
        "df1.info(verbose = True)"
      ],
      "metadata": {
        "id": "pTo57BAEkF_M"
      },
      "execution_count": null,
      "outputs": []
    },
    {
      "cell_type": "code",
      "source": [
        "(df1.isnull().sum()/len(df1)*100).sort_values(ascending = False).head(50)"
      ],
      "metadata": {
        "id": "Y9KKO_9JkKND"
      },
      "execution_count": null,
      "outputs": []
    },
    {
      "cell_type": "code",
      "source": [
        "null_col = df1.isnull().sum().sort_values(ascending = False)\n",
        "null_col = null_col[null_col.values >(0.35*len(df1))]\n",
        "\n",
        "\n",
        "#Plotting Bar Graph for null values greater than 35%\n",
        "\n",
        "plt.figure(figsize=(20,4))\n",
        "null_col.plot(kind='bar', color=\"#4CB391\")\n",
        "plt.title('List of Columns & null counts where null values are more than 35%')\n",
        "\n",
        "plt.xlabel(\"Null Columns\",fontdict={\"fontsize\":12,\"fontweight\":5})                  #Setting X-label and Y-label\n",
        "plt.ylabel(\"Count of null values\",fontdict={\"fontsize\":12,\"fontweight\":5})\n",
        "plt.show()"
      ],
      "metadata": {
        "id": "ccddcb0SkM2m"
      },
      "execution_count": null,
      "outputs": []
    },
    {
      "cell_type": "code",
      "source": [
        "len(null_col)"
      ],
      "metadata": {
        "id": "K_ZTME2xkPcn"
      },
      "execution_count": null,
      "outputs": []
    },
    {
      "cell_type": "code",
      "source": [
        "label = list(null_col.index.values) #Making list of column names having null values greater than 35%\n",
        "df1.drop(labels = label,axis=1,inplace = True) #Droping those columns\n",
        "df1.shape"
      ],
      "metadata": {
        "id": "ggwJ1p2tkSRM"
      },
      "execution_count": null,
      "outputs": []
    },
    {
      "cell_type": "code",
      "source": [
        "null = (df1.isnull().sum()/len(df1)*100).sort_values(ascending = False).head(50)\n",
        "null.head(30)"
      ],
      "metadata": {
        "id": "slBrszJ3kSU3"
      },
      "execution_count": null,
      "outputs": []
    },
    {
      "cell_type": "code",
      "source": [
        "df1.AMT_REQ_CREDIT_BUREAU_YEAR.fillna(df1.AMT_REQ_CREDIT_BUREAU_YEAR.mode()[0],inplace = True) #AMT_REQ_CREDIT_BUREAU_YEAR\n",
        "\n",
        "df1.AMT_REQ_CREDIT_BUREAU_MON.fillna(df1.AMT_REQ_CREDIT_BUREAU_MON.mode()[0],inplace = True)   #AMT_REQ_CREDIT_BUREAU_MON\n",
        "\n",
        "df1.AMT_REQ_CREDIT_BUREAU_WEEK.fillna(df1.AMT_REQ_CREDIT_BUREAU_WEEK.mode()[0],inplace = True) #AMT_REQ_CREDIT_BUREAU_WEEK\n",
        "\n",
        "df1.AMT_REQ_CREDIT_BUREAU_DAY.fillna(df1.AMT_REQ_CREDIT_BUREAU_DAY.mode()[0],inplace = True)   #AMT_REQ_CREDIT_BUREAU_DAY\n",
        "\n",
        "df1.AMT_REQ_CREDIT_BUREAU_HOUR.fillna(df1.AMT_REQ_CREDIT_BUREAU_HOUR.mode()[0],inplace = True) #AMT_REQ_CREDIT_BUREAU_HOUR\n",
        "\n",
        "df1.AMT_REQ_CREDIT_BUREAU_QRT.fillna(df1.AMT_REQ_CREDIT_BUREAU_QRT.mode()[0],inplace = True)   #AMT_REQ_CREDIT_BUREAU_QRT\n",
        "\n",
        "df1.NAME_TYPE_SUITE.fillna(df1.NAME_TYPE_SUITE.mode()[0],inplace = True) #NAME_TYPE_SUITE\n",
        "\n",
        "df1.OBS_30_CNT_SOCIAL_CIRCLE.fillna( df1.OBS_30_CNT_SOCIAL_CIRCLE.mode()[0],inplace = True) #OBS_30_CNT_SOCIAL_CIRCLE\n",
        "\n",
        "df1.DEF_30_CNT_SOCIAL_CIRCLE.fillna( df1.DEF_30_CNT_SOCIAL_CIRCLE.mode()[0],inplace = True) #DEF_30_CNT_SOCIAL_CIRCLE\n",
        "\n",
        "df1.OBS_60_CNT_SOCIAL_CIRCLE.fillna( df1.OBS_60_CNT_SOCIAL_CIRCLE.mode()[0],inplace = True) #OBS_60_CNT_SOCIAL_CIRCLE\n",
        "\n",
        "df1.DEF_60_CNT_SOCIAL_CIRCLE.fillna( df1.DEF_60_CNT_SOCIAL_CIRCLE.mode()[0],inplace = True) #DEF_60_CNT_SOCIAL_CIRCLE\n",
        "\n",
        "df1.CNT_FAM_MEMBERS.fillna(df1.CNT_FAM_MEMBERS.mode() , inplace = True) #CNT_FAM_MEMBERS\n",
        "\n",
        "df1.DAYS_LAST_PHONE_CHANGE.fillna(df1.DAYS_LAST_PHONE_CHANGE.mode()[0],inplace = True) #DAYS_LAST_PHONE_CHANGE\n",
        "\n",
        "df1.EXT_SOURCE_2.fillna(df1.EXT_SOURCE_2.median() , inplace = True) #EXT_SOURCE_2\n",
        "\n",
        "df1.EXT_SOURCE_3.fillna(df1.EXT_SOURCE_3.median() , inplace = True) #EXT_SOURCE_3"
      ],
      "metadata": {
        "id": "l2A-YKWukSXo"
      },
      "execution_count": null,
      "outputs": []
    },
    {
      "cell_type": "code",
      "source": [
        "(df1.isnull().sum()/len(df1)*100).sort_values(ascending=False)"
      ],
      "metadata": {
        "id": "_bNKVex7kSaB"
      },
      "execution_count": null,
      "outputs": []
    },
    {
      "cell_type": "code",
      "source": [
        "df1[[\"DAYS_BIRTH\",\"DAYS_EMPLOYED\",\"DAYS_REGISTRATION\",\"DAYS_ID_PUBLISH\",\"DAYS_LAST_PHONE_CHANGE\"]]"
      ],
      "metadata": {
        "id": "fckB_rVhkScb"
      },
      "execution_count": null,
      "outputs": []
    },
    {
      "cell_type": "code",
      "source": [
        "day_cols = [i for i in df1 if i.startswith('DAYS')]\n",
        "day_cols"
      ],
      "metadata": {
        "id": "SzWoTCoQkSet"
      },
      "execution_count": null,
      "outputs": []
    },
    {
      "cell_type": "code",
      "source": [
        "df1[day_cols]= abs(df1[day_cols])\n",
        "print(df1['DAYS_BIRTH'].unique()) print(df1['DAYS_EMPLOYED'].unique()) print(df1['DAYS_REGISTRATION'].unique()) print(df1['DAYS_ID_PUBLISH'].unique()) print(df1['DAYS_LAST_PHONE_CHANGE'].unique())"
      ],
      "metadata": {
        "id": "itb_iJ0XkSiH"
      },
      "execution_count": null,
      "outputs": []
    }
  ]
}